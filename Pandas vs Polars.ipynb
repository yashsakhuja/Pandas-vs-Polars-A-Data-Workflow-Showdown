{
  "nbformat": 4,
  "nbformat_minor": 0,
  "metadata": {
    "colab": {
      "provenance": [],
      "toc_visible": true,
      "mount_file_id": "13ICZwZupCRTBY0HtWlfhWsvWB82_wZdJ",
      "authorship_tag": "ABX9TyPtEhFNgRUaO9Ym4SpIAQNm",
      "include_colab_link": true
    },
    "kernelspec": {
      "name": "python3",
      "display_name": "Python 3"
    },
    "language_info": {
      "name": "python"
    }
  },
  "cells": [
    {
      "cell_type": "markdown",
      "metadata": {
        "id": "view-in-github",
        "colab_type": "text"
      },
      "source": [
        "<a href=\"https://colab.research.google.com/github/yashsakhuja/Pandas-vs-Polars-A-Data-Workflow-Showdown/blob/main/Pandas%20vs%20Polars.ipynb\" target=\"_parent\"><img src=\"https://colab.research.google.com/assets/colab-badge.svg\" alt=\"Open In Colab\"/></a>"
      ]
    },
    {
      "cell_type": "markdown",
      "source": [
        "# ⎀ Importing Packages"
      ],
      "metadata": {
        "id": "z_olRgfJbPDq"
      }
    },
    {
      "cell_type": "code",
      "execution_count": null,
      "metadata": {
        "id": "LGM_SCDLXpTm"
      },
      "outputs": [],
      "source": [
        "#Importing the packages\n",
        "import polars as pl\n",
        "import pandas as pd"
      ]
    },
    {
      "cell_type": "code",
      "source": [
        "print(\"Pandas: \"+pd.__version__)\n",
        "print(\"Polars: \"+pl.__version__)"
      ],
      "metadata": {
        "colab": {
          "base_uri": "https://localhost:8080/"
        },
        "id": "Bh9sMOH1w6hf",
        "outputId": "45b75ade-a3d1-455b-9ee7-85a1702ffadf"
      },
      "execution_count": null,
      "outputs": [
        {
          "output_type": "stream",
          "name": "stdout",
          "text": [
            "Pandas: 2.1.4\n",
            "Polars: 0.20.2\n"
          ]
        }
      ]
    },
    {
      "cell_type": "markdown",
      "source": [
        "# 📖 Reading CSVs"
      ],
      "metadata": {
        "id": "uW3xIqVGbSbl"
      }
    },
    {
      "cell_type": "code",
      "source": [
        "sales_pd = pd.read_csv(\"/content/drive/MyDrive/Maven Toys Data/sales.csv\")"
      ],
      "metadata": {
        "id": "XQ2jOkX8a9-_"
      },
      "execution_count": null,
      "outputs": []
    },
    {
      "cell_type": "code",
      "source": [
        "sales_pl = pl.read_csv(\"/content/drive/MyDrive/Maven Toys Data/sales.csv\")"
      ],
      "metadata": {
        "id": "Hq-OYt2yF5UF"
      },
      "execution_count": null,
      "outputs": []
    },
    {
      "cell_type": "code",
      "source": [
        "##Reading other data- pandas\n",
        "inv_pd = pd.read_csv(\"/content/drive/MyDrive/Maven Toys Data/inventory.csv\")\n",
        "prod_pd = pd.read_csv(\"/content/drive/MyDrive/Maven Toys Data/products.csv\")\n",
        "stores_pd = pd.read_csv(\"/content/drive/MyDrive/Maven Toys Data/stores.csv\")"
      ],
      "metadata": {
        "id": "piMS_KDgbG5j"
      },
      "execution_count": null,
      "outputs": []
    },
    {
      "cell_type": "code",
      "source": [
        "##Reading other data- polars\n",
        "inv_pl = pl.read_csv(\"/content/drive/MyDrive/Maven Toys Data/inventory.csv\")\n",
        "prod_pl = pl.read_csv(\"/content/drive/MyDrive/Maven Toys Data/products.csv\")\n",
        "stores_pl = pl.read_csv(\"/content/drive/MyDrive/Maven Toys Data/stores.csv\")"
      ],
      "metadata": {
        "id": "xk5FyYV4hA5s"
      },
      "execution_count": null,
      "outputs": []
    },
    {
      "cell_type": "code",
      "source": [
        "%%timeit -r10 -n10\n",
        "#pandas\n",
        "sales_pd = pd.read_csv(\"/content/drive/MyDrive/Maven Toys Data/sales.csv\")\n",
        "inv_pd = pd.read_csv(\"/content/drive/MyDrive/Maven Toys Data/inventory.csv\")\n",
        "prod_pd = pd.read_csv(\"/content/drive/MyDrive/Maven Toys Data/products.csv\")\n",
        "stores_pd = pd.read_csv(\"/content/drive/MyDrive/Maven Toys Data/stores.csv\")"
      ],
      "metadata": {
        "colab": {
          "base_uri": "https://localhost:8080/"
        },
        "id": "xep86YQksFNC",
        "outputId": "8d0c59f1-ae4b-44df-f441-83ee24e35dd9"
      },
      "execution_count": null,
      "outputs": [
        {
          "output_type": "stream",
          "name": "stdout",
          "text": [
            "461 ms ± 78.2 ms per loop (mean ± std. dev. of 10 runs, 10 loops each)\n"
          ]
        }
      ]
    },
    {
      "cell_type": "code",
      "source": [
        "%%timeit -r10 -n10\n",
        "#polars\n",
        "sales_pl = pl.read_csv(\"/content/drive/MyDrive/Maven Toys Data/sales.csv\")\n",
        "inv_pl = pl.read_csv(\"/content/drive/MyDrive/Maven Toys Data/inventory.csv\")\n",
        "prod_pl = pl.read_csv(\"/content/drive/MyDrive/Maven Toys Data/products.csv\")\n",
        "stores_pl = pl.read_csv(\"/content/drive/MyDrive/Maven Toys Data/stores.csv\")"
      ],
      "metadata": {
        "colab": {
          "base_uri": "https://localhost:8080/"
        },
        "id": "Imn6-MmIsVOx",
        "outputId": "331408b3-7b63-42fa-dc0b-7143a3b88f5b"
      },
      "execution_count": null,
      "outputs": [
        {
          "output_type": "stream",
          "name": "stdout",
          "text": [
            "208 ms ± 56.1 ms per loop (mean ± std. dev. of 10 runs, 10 loops each)\n"
          ]
        }
      ]
    },
    {
      "cell_type": "markdown",
      "source": [
        "# 👀 Viewing Data"
      ],
      "metadata": {
        "id": "Z2VLPT-ch9Uk"
      }
    },
    {
      "cell_type": "code",
      "source": [
        "print(sales_pl)"
      ],
      "metadata": {
        "colab": {
          "base_uri": "https://localhost:8080/"
        },
        "id": "EX-2fDYch5MB",
        "outputId": "901fc4c4-092a-487e-da35-22d4bd74a842"
      },
      "execution_count": null,
      "outputs": [
        {
          "output_type": "stream",
          "name": "stdout",
          "text": [
            "shape: (829_262, 5)\n",
            "┌─────────┬────────────┬──────────┬────────────┬───────┐\n",
            "│ Sale_ID ┆ Date       ┆ Store_ID ┆ Product_ID ┆ Units │\n",
            "│ ---     ┆ ---        ┆ ---      ┆ ---        ┆ ---   │\n",
            "│ i64     ┆ str        ┆ i64      ┆ i64        ┆ i64   │\n",
            "╞═════════╪════════════╪══════════╪════════════╪═══════╡\n",
            "│ 1       ┆ 2022-01-01 ┆ 24       ┆ 4          ┆ 1     │\n",
            "│ 2       ┆ 2022-01-01 ┆ 28       ┆ 1          ┆ 1     │\n",
            "│ 3       ┆ 2022-01-01 ┆ 6        ┆ 8          ┆ 1     │\n",
            "│ 4       ┆ 2022-01-01 ┆ 48       ┆ 7          ┆ 1     │\n",
            "│ …       ┆ …          ┆ …        ┆ …          ┆ …     │\n",
            "│ 829259  ┆ 2023-09-30 ┆ 16       ┆ 35         ┆ 1     │\n",
            "│ 829260  ┆ 2023-09-30 ┆ 22       ┆ 19         ┆ 1     │\n",
            "│ 829261  ┆ 2023-09-30 ┆ 13       ┆ 2          ┆ 2     │\n",
            "│ 829262  ┆ 2023-09-30 ┆ 32       ┆ 6          ┆ 1     │\n",
            "└─────────┴────────────┴──────────┴────────────┴───────┘\n"
          ]
        }
      ]
    },
    {
      "cell_type": "code",
      "source": [
        "print(sales_pd)"
      ],
      "metadata": {
        "colab": {
          "base_uri": "https://localhost:8080/"
        },
        "id": "Xp-TEJauiFQI",
        "outputId": "19df322d-e2dd-4edd-e3a4-1b956622648f"
      },
      "execution_count": null,
      "outputs": [
        {
          "output_type": "stream",
          "name": "stdout",
          "text": [
            "        Sale_ID        Date  Store_ID  Product_ID  Units\n",
            "0             1  2022-01-01        24           4      1\n",
            "1             2  2022-01-01        28           1      1\n",
            "2             3  2022-01-01         6           8      1\n",
            "3             4  2022-01-01        48           7      1\n",
            "4             5  2022-01-01        44          18      1\n",
            "...         ...         ...       ...         ...    ...\n",
            "829257   829258  2023-09-30        24          19      1\n",
            "829258   829259  2023-09-30        16          35      1\n",
            "829259   829260  2023-09-30        22          19      1\n",
            "829260   829261  2023-09-30        13           2      2\n",
            "829261   829262  2023-09-30        32           6      1\n",
            "\n",
            "[829262 rows x 5 columns]\n"
          ]
        }
      ]
    },
    {
      "cell_type": "markdown",
      "source": [
        "# 🤝 Joining Data"
      ],
      "metadata": {
        "id": "myyhr0ZeeyQA"
      }
    },
    {
      "cell_type": "code",
      "source": [
        "final_pd = sales_pd.merge(prod_pd, on='Product_ID', how='left')\\\n",
        "                   .merge(stores_pd, on='Store_ID', how='left')\\\n",
        "                   .merge(inv_pd, on=['Store_ID', 'Product_ID'], how='left')"
      ],
      "metadata": {
        "id": "3OMx77YJhR44"
      },
      "execution_count": null,
      "outputs": []
    },
    {
      "cell_type": "code",
      "source": [
        "final_pd.shape"
      ],
      "metadata": {
        "colab": {
          "base_uri": "https://localhost:8080/"
        },
        "id": "nBgxLnk3kxHK",
        "outputId": "2e79ecb5-2ee6-42da-dbf2-906c2fc814c0"
      },
      "execution_count": null,
      "outputs": [
        {
          "output_type": "execute_result",
          "data": {
            "text/plain": [
              "(829262, 14)"
            ]
          },
          "metadata": {},
          "execution_count": 12
        }
      ]
    },
    {
      "cell_type": "code",
      "source": [
        "final_pl = sales_pl.join(prod_pl, on='Product_ID', how='left') \\\n",
        "                   .join(stores_pl, on='Store_ID', how='left') \\\n",
        "                   .join(inv_pl, on=['Store_ID', 'Product_ID'], how='left')"
      ],
      "metadata": {
        "id": "bEVmYsbFmTHx"
      },
      "execution_count": null,
      "outputs": []
    },
    {
      "cell_type": "code",
      "source": [
        "final_pd.shape"
      ],
      "metadata": {
        "colab": {
          "base_uri": "https://localhost:8080/"
        },
        "id": "jUaXgci_pTF4",
        "outputId": "19d5b6e5-5b4e-4886-b3c0-bf913774b29d"
      },
      "execution_count": null,
      "outputs": [
        {
          "output_type": "execute_result",
          "data": {
            "text/plain": [
              "(829262, 14)"
            ]
          },
          "metadata": {},
          "execution_count": 14
        }
      ]
    },
    {
      "cell_type": "code",
      "source": [
        "%%timeit -r10 -n10\n",
        "final_pd = sales_pd.merge(prod_pd, on='Product_ID', how='left')\\\n",
        "                   .merge(stores_pd, on='Store_ID', how='left')\\\n",
        "                   .merge(inv_pd, on=['Store_ID', 'Product_ID'], how='left')"
      ],
      "metadata": {
        "colab": {
          "base_uri": "https://localhost:8080/"
        },
        "id": "wjYl7i1ksRPB",
        "outputId": "6ada76f8-6d7e-4f7e-c201-6b50630aa305"
      },
      "execution_count": null,
      "outputs": [
        {
          "output_type": "stream",
          "name": "stdout",
          "text": [
            "684 ms ± 50.4 ms per loop (mean ± std. dev. of 10 runs, 10 loops each)\n"
          ]
        }
      ]
    },
    {
      "cell_type": "code",
      "source": [
        "%%timeit -r10 -n10\n",
        "final_pl = sales_pl.join(prod_pl, on='Product_ID', how='left') \\\n",
        "                   .join(stores_pl, on='Store_ID', how='left') \\\n",
        "                   .join(inv_pl, on=['Store_ID', 'Product_ID'], how='left')"
      ],
      "metadata": {
        "colab": {
          "base_uri": "https://localhost:8080/"
        },
        "id": "0Oz90_-hsfQM",
        "outputId": "dd0f4f18-9bf0-4858-f83f-063bfd1a38e7"
      },
      "execution_count": null,
      "outputs": [
        {
          "output_type": "stream",
          "name": "stdout",
          "text": [
            "290 ms ± 48.7 ms per loop (mean ± std. dev. of 10 runs, 10 loops each)\n"
          ]
        }
      ]
    },
    {
      "cell_type": "code",
      "source": [
        "final_pl.head()"
      ],
      "metadata": {
        "colab": {
          "base_uri": "https://localhost:8080/",
          "height": 362
        },
        "id": "kXxw_xRospEG",
        "outputId": "a5e19bc7-2c88-4ad4-ebee-3379d158a74d"
      },
      "execution_count": null,
      "outputs": [
        {
          "output_type": "execute_result",
          "data": {
            "text/plain": [
              "shape: (5, 14)\n",
              "┌─────────┬────────────┬──────────┬────────────┬───┬───────────┬───────────┬───────────┬───────────┐\n",
              "│ Sale_ID ┆ Date       ┆ Store_ID ┆ Product_ID ┆ … ┆ Store_Cit ┆ Store_Loc ┆ Store_Ope ┆ Stock_On_ │\n",
              "│ ---     ┆ ---        ┆ ---      ┆ ---        ┆   ┆ y         ┆ ation     ┆ n_Date    ┆ Hand      │\n",
              "│ i64     ┆ str        ┆ i64      ┆ i64        ┆   ┆ ---       ┆ ---       ┆ ---       ┆ ---       │\n",
              "│         ┆            ┆          ┆            ┆   ┆ str       ┆ str       ┆ str       ┆ i64       │\n",
              "╞═════════╪════════════╪══════════╪════════════╪═══╪═══════════╪═══════════╪═══════════╪═══════════╡\n",
              "│ 1       ┆ 2022-01-01 ┆ 24       ┆ 4          ┆ … ┆ Aguascali ┆ Downtown  ┆ 2010-07-3 ┆ 1         │\n",
              "│         ┆            ┆          ┆            ┆   ┆ entes     ┆           ┆ 1         ┆           │\n",
              "│ 2       ┆ 2022-01-01 ┆ 28       ┆ 1          ┆ … ┆ Puebla    ┆ Downtown  ┆ 2011-04-0 ┆ 6         │\n",
              "│         ┆            ┆          ┆            ┆   ┆           ┆           ┆ 1         ┆           │\n",
              "│ 3       ┆ 2022-01-01 ┆ 6        ┆ 8          ┆ … ┆ Mexicali  ┆ Commercia ┆ 2003-12-1 ┆ 50        │\n",
              "│         ┆            ┆          ┆            ┆   ┆           ┆ l         ┆ 3         ┆           │\n",
              "│ 4       ┆ 2022-01-01 ┆ 48       ┆ 7          ┆ … ┆ Saltillo  ┆ Commercia ┆ 2016-03-2 ┆ 28        │\n",
              "│         ┆            ┆          ┆            ┆   ┆           ┆ l         ┆ 3         ┆           │\n",
              "│ 5       ┆ 2022-01-01 ┆ 44       ┆ 18         ┆ … ┆ Puebla    ┆ Residenti ┆ 2014-12-2 ┆ 117       │\n",
              "│         ┆            ┆          ┆            ┆   ┆           ┆ al        ┆ 7         ┆           │\n",
              "└─────────┴────────────┴──────────┴────────────┴───┴───────────┴───────────┴───────────┴───────────┘"
            ],
            "text/html": [
              "<div><style>\n",
              ".dataframe > thead > tr,\n",
              ".dataframe > tbody > tr {\n",
              "  text-align: right;\n",
              "  white-space: pre-wrap;\n",
              "}\n",
              "</style>\n",
              "<small>shape: (5, 14)</small><table border=\"1\" class=\"dataframe\"><thead><tr><th>Sale_ID</th><th>Date</th><th>Store_ID</th><th>Product_ID</th><th>Units</th><th>Product_Name</th><th>Product_Category</th><th>Product_Cost</th><th>Product_Price</th><th>Store_Name</th><th>Store_City</th><th>Store_Location</th><th>Store_Open_Date</th><th>Stock_On_Hand</th></tr><tr><td>i64</td><td>str</td><td>i64</td><td>i64</td><td>i64</td><td>str</td><td>str</td><td>str</td><td>str</td><td>str</td><td>str</td><td>str</td><td>str</td><td>i64</td></tr></thead><tbody><tr><td>1</td><td>&quot;2022-01-01&quot;</td><td>24</td><td>4</td><td>1</td><td>&quot;Chutes &amp; Ladde…</td><td>&quot;Games&quot;</td><td>&quot;$9.99 &quot;</td><td>&quot;$12.99 &quot;</td><td>&quot;Maven Toys Agu…</td><td>&quot;Aguascalientes…</td><td>&quot;Downtown&quot;</td><td>&quot;2010-07-31&quot;</td><td>1</td></tr><tr><td>2</td><td>&quot;2022-01-01&quot;</td><td>28</td><td>1</td><td>1</td><td>&quot;Action Figure&quot;</td><td>&quot;Toys&quot;</td><td>&quot;$9.99 &quot;</td><td>&quot;$15.99 &quot;</td><td>&quot;Maven Toys Pue…</td><td>&quot;Puebla&quot;</td><td>&quot;Downtown&quot;</td><td>&quot;2011-04-01&quot;</td><td>6</td></tr><tr><td>3</td><td>&quot;2022-01-01&quot;</td><td>6</td><td>8</td><td>1</td><td>&quot;Deck Of Cards&quot;</td><td>&quot;Games&quot;</td><td>&quot;$3.99 &quot;</td><td>&quot;$6.99 &quot;</td><td>&quot;Maven Toys Mex…</td><td>&quot;Mexicali&quot;</td><td>&quot;Commercial&quot;</td><td>&quot;2003-12-13&quot;</td><td>50</td></tr><tr><td>4</td><td>&quot;2022-01-01&quot;</td><td>48</td><td>7</td><td>1</td><td>&quot;Dart Gun&quot;</td><td>&quot;Sports &amp; Outdo…</td><td>&quot;$11.99 &quot;</td><td>&quot;$15.99 &quot;</td><td>&quot;Maven Toys Sal…</td><td>&quot;Saltillo&quot;</td><td>&quot;Commercial&quot;</td><td>&quot;2016-03-23&quot;</td><td>28</td></tr><tr><td>5</td><td>&quot;2022-01-01&quot;</td><td>44</td><td>18</td><td>1</td><td>&quot;Lego Bricks&quot;</td><td>&quot;Toys&quot;</td><td>&quot;$34.99 &quot;</td><td>&quot;$39.99 &quot;</td><td>&quot;Maven Toys Pue…</td><td>&quot;Puebla&quot;</td><td>&quot;Residential&quot;</td><td>&quot;2014-12-27&quot;</td><td>117</td></tr></tbody></table></div>"
            ]
          },
          "metadata": {},
          "execution_count": 17
        }
      ]
    },
    {
      "cell_type": "markdown",
      "source": [
        "# ✍🏼 Writing Data"
      ],
      "metadata": {
        "id": "Bx-Y4OdojRfp"
      }
    },
    {
      "cell_type": "code",
      "source": [
        "%%timeit -r10 -n10\n",
        "#pandas\n",
        "final_pd.to_csv('output_file_pd.csv', index=False)"
      ],
      "metadata": {
        "colab": {
          "base_uri": "https://localhost:8080/"
        },
        "id": "xQEMIEbejShC",
        "outputId": "12894aaf-8b82-4003-a3ae-0be52dadb54b"
      },
      "execution_count": null,
      "outputs": [
        {
          "output_type": "stream",
          "name": "stdout",
          "text": [
            "5.97 s ± 142 ms per loop (mean ± std. dev. of 10 runs, 10 loops each)\n"
          ]
        }
      ]
    },
    {
      "cell_type": "code",
      "source": [
        "%%timeit -r10 -n10\n",
        "#polars\n",
        "final_pl.write_csv('output_file.csv')"
      ],
      "metadata": {
        "colab": {
          "base_uri": "https://localhost:8080/"
        },
        "id": "b5Tm-qATjwDG",
        "outputId": "2ab9dbe0-cb0f-4c8e-cbf2-a72e2b4ba9ae"
      },
      "execution_count": null,
      "outputs": [
        {
          "output_type": "stream",
          "name": "stdout",
          "text": [
            "1.52 s ± 50.3 ms per loop (mean ± std. dev. of 10 runs, 10 loops each)\n"
          ]
        }
      ]
    },
    {
      "cell_type": "markdown",
      "source": [
        "# 👉 Selecting Data Columns\n",
        "Selecting 10 out of 14 columns"
      ],
      "metadata": {
        "id": "3_-vkYov9j7w"
      }
    },
    {
      "cell_type": "code",
      "source": [
        "%%timeit -r 10 -n 10\n",
        "#pandas\n",
        "pd_df_selected = final_pd[['Sale_ID', 'Date','Store_City','Store_Location','Store_Name', 'Product_Category', 'Product_Name', 'Product_Cost','Product_Price','Units']]"
      ],
      "metadata": {
        "colab": {
          "base_uri": "https://localhost:8080/"
        },
        "id": "jpiQIvJh9iZ_",
        "outputId": "e6ad71cf-671f-4e70-85f9-f974b84d1db4"
      },
      "execution_count": null,
      "outputs": [
        {
          "output_type": "stream",
          "name": "stdout",
          "text": [
            "49.9 ms ± 1.43 ms per loop (mean ± std. dev. of 10 runs, 10 loops each)\n"
          ]
        }
      ]
    },
    {
      "cell_type": "code",
      "source": [
        "%%timeit -r 10 -n 10\n",
        "#pandas\n",
        "pl_df_selected = final_pl[['Sale_ID', 'Date','Store_City','Store_Location','Store_Name', 'Product_Category', 'Product_Name', 'Product_Cost','Product_Price','Units']]"
      ],
      "metadata": {
        "colab": {
          "base_uri": "https://localhost:8080/"
        },
        "id": "koGs0iI59yWF",
        "outputId": "5a5ae7c7-9344-4751-f691-958dfab52f7d"
      },
      "execution_count": null,
      "outputs": [
        {
          "output_type": "stream",
          "name": "stdout",
          "text": [
            "13.8 µs ± 5.2 µs per loop (mean ± std. dev. of 10 runs, 10 loops each)\n"
          ]
        }
      ]
    },
    {
      "cell_type": "code",
      "source": [
        "#pandas\n",
        "pd_df_selected = final_pd[['Sale_ID', 'Date','Store_City','Store_Location','Store_Name', 'Product_Category', 'Product_Name', 'Product_Cost','Product_Price','Units']]\n",
        "\n",
        "#polars\n",
        "pl_df_selected = final_pl[['Sale_ID', 'Date','Store_City','Store_Location','Store_Name', 'Product_Category', 'Product_Name', 'Product_Cost','Product_Price','Units']]"
      ],
      "metadata": {
        "id": "p01Rm1zf-0El"
      },
      "execution_count": null,
      "outputs": []
    },
    {
      "cell_type": "markdown",
      "source": [
        "# ⎖ Filtering Data\n",
        "\n",
        "\n",
        "*   filtering 90,725 rows out of 829,262 rows (11% rows)\n",
        "*   Filtering sales from Store City= \"Cuidad de Mexico\"\n",
        "\n",
        "\n"
      ],
      "metadata": {
        "id": "YcYInm9UBr7_"
      }
    },
    {
      "cell_type": "code",
      "source": [
        "#Filtering the rows from Store City= \"Cuidad de Mexico\"\n",
        "#pandas\n",
        "filter_pd_df = pd_df_selected[pd_df_selected['Store_City']=='Cuidad de Mexico']\n",
        "\n",
        "#polars\n",
        "filter_pl_df = pl_df_selected.filter(pl.col('Store_City') == \"Cuidad de Mexico\")"
      ],
      "metadata": {
        "id": "6Bqn1L5j-8Br"
      },
      "execution_count": null,
      "outputs": []
    },
    {
      "cell_type": "code",
      "source": [
        "%%timeit -r10 -n10\n",
        "#Filtering the rows from Store City= \"Cuidad de Mexico\"\n",
        "#pandas\n",
        "filter_pd_df = pd_df_selected[pd_df_selected['Store_City']=='Cuidad de Mexico']"
      ],
      "metadata": {
        "colab": {
          "base_uri": "https://localhost:8080/"
        },
        "id": "JG_8tIKJFcsP",
        "outputId": "8f01d739-5009-4199-b5be-3738c6074e4b"
      },
      "execution_count": null,
      "outputs": [
        {
          "output_type": "stream",
          "name": "stdout",
          "text": [
            "80.1 ms ± 19.5 ms per loop (mean ± std. dev. of 10 runs, 10 loops each)\n"
          ]
        }
      ]
    },
    {
      "cell_type": "code",
      "source": [
        "%%timeit -r10 -n10\n",
        "#Filtering the rows from Store City= \"Cuidad de Mexico\"\n",
        "#polars\n",
        "filter_pl_df = pl_df_selected.filter(pl.col('Store_City') == \"Cuidad de Mexico\")"
      ],
      "metadata": {
        "colab": {
          "base_uri": "https://localhost:8080/"
        },
        "id": "quSZetbgKq_Q",
        "outputId": "d2d6fa08-b480-4c02-bf3b-01758f072b21"
      },
      "execution_count": null,
      "outputs": [
        {
          "output_type": "stream",
          "name": "stdout",
          "text": [
            "41.9 ms ± 1.66 ms per loop (mean ± std. dev. of 10 runs, 10 loops each)\n"
          ]
        }
      ]
    },
    {
      "cell_type": "markdown",
      "source": [
        "# 🏘️ Grouping and Aggregation\n",
        "Total Distinct orders grouped by 5 Product Categories"
      ],
      "metadata": {
        "id": "k8lOApjLK9h_"
      }
    },
    {
      "cell_type": "code",
      "source": [
        "group_pd_df=pd_df_selected.groupby('Product_Category')['Sale_ID'].nunique().reset_index(name='Total Transactions')\n",
        "group_pd_df"
      ],
      "metadata": {
        "colab": {
          "base_uri": "https://localhost:8080/",
          "height": 206
        },
        "id": "sL1M28K4LKNs",
        "outputId": "5e5b5885-ba4e-4f29-ab03-94eb6ad06b48"
      },
      "execution_count": null,
      "outputs": [
        {
          "output_type": "execute_result",
          "data": {
            "text/plain": [
              "    Product_Category  Total Transactions\n",
              "0       Art & Crafts              220673\n",
              "1        Electronics               99025\n",
              "2              Games              157006\n",
              "3  Sports & Outdoors              131331\n",
              "4               Toys              221227"
            ],
            "text/html": [
              "\n",
              "  <div id=\"df-872eca90-022d-4a2b-a086-d3915a2c2326\" class=\"colab-df-container\">\n",
              "    <div>\n",
              "<style scoped>\n",
              "    .dataframe tbody tr th:only-of-type {\n",
              "        vertical-align: middle;\n",
              "    }\n",
              "\n",
              "    .dataframe tbody tr th {\n",
              "        vertical-align: top;\n",
              "    }\n",
              "\n",
              "    .dataframe thead th {\n",
              "        text-align: right;\n",
              "    }\n",
              "</style>\n",
              "<table border=\"1\" class=\"dataframe\">\n",
              "  <thead>\n",
              "    <tr style=\"text-align: right;\">\n",
              "      <th></th>\n",
              "      <th>Product_Category</th>\n",
              "      <th>Total Transactions</th>\n",
              "    </tr>\n",
              "  </thead>\n",
              "  <tbody>\n",
              "    <tr>\n",
              "      <th>0</th>\n",
              "      <td>Art &amp; Crafts</td>\n",
              "      <td>220673</td>\n",
              "    </tr>\n",
              "    <tr>\n",
              "      <th>1</th>\n",
              "      <td>Electronics</td>\n",
              "      <td>99025</td>\n",
              "    </tr>\n",
              "    <tr>\n",
              "      <th>2</th>\n",
              "      <td>Games</td>\n",
              "      <td>157006</td>\n",
              "    </tr>\n",
              "    <tr>\n",
              "      <th>3</th>\n",
              "      <td>Sports &amp; Outdoors</td>\n",
              "      <td>131331</td>\n",
              "    </tr>\n",
              "    <tr>\n",
              "      <th>4</th>\n",
              "      <td>Toys</td>\n",
              "      <td>221227</td>\n",
              "    </tr>\n",
              "  </tbody>\n",
              "</table>\n",
              "</div>\n",
              "    <div class=\"colab-df-buttons\">\n",
              "\n",
              "  <div class=\"colab-df-container\">\n",
              "    <button class=\"colab-df-convert\" onclick=\"convertToInteractive('df-872eca90-022d-4a2b-a086-d3915a2c2326')\"\n",
              "            title=\"Convert this dataframe to an interactive table.\"\n",
              "            style=\"display:none;\">\n",
              "\n",
              "  <svg xmlns=\"http://www.w3.org/2000/svg\" height=\"24px\" viewBox=\"0 -960 960 960\">\n",
              "    <path d=\"M120-120v-720h720v720H120Zm60-500h600v-160H180v160Zm220 220h160v-160H400v160Zm0 220h160v-160H400v160ZM180-400h160v-160H180v160Zm440 0h160v-160H620v160ZM180-180h160v-160H180v160Zm440 0h160v-160H620v160Z\"/>\n",
              "  </svg>\n",
              "    </button>\n",
              "\n",
              "  <style>\n",
              "    .colab-df-container {\n",
              "      display:flex;\n",
              "      gap: 12px;\n",
              "    }\n",
              "\n",
              "    .colab-df-convert {\n",
              "      background-color: #E8F0FE;\n",
              "      border: none;\n",
              "      border-radius: 50%;\n",
              "      cursor: pointer;\n",
              "      display: none;\n",
              "      fill: #1967D2;\n",
              "      height: 32px;\n",
              "      padding: 0 0 0 0;\n",
              "      width: 32px;\n",
              "    }\n",
              "\n",
              "    .colab-df-convert:hover {\n",
              "      background-color: #E2EBFA;\n",
              "      box-shadow: 0px 1px 2px rgba(60, 64, 67, 0.3), 0px 1px 3px 1px rgba(60, 64, 67, 0.15);\n",
              "      fill: #174EA6;\n",
              "    }\n",
              "\n",
              "    .colab-df-buttons div {\n",
              "      margin-bottom: 4px;\n",
              "    }\n",
              "\n",
              "    [theme=dark] .colab-df-convert {\n",
              "      background-color: #3B4455;\n",
              "      fill: #D2E3FC;\n",
              "    }\n",
              "\n",
              "    [theme=dark] .colab-df-convert:hover {\n",
              "      background-color: #434B5C;\n",
              "      box-shadow: 0px 1px 3px 1px rgba(0, 0, 0, 0.15);\n",
              "      filter: drop-shadow(0px 1px 2px rgba(0, 0, 0, 0.3));\n",
              "      fill: #FFFFFF;\n",
              "    }\n",
              "  </style>\n",
              "\n",
              "    <script>\n",
              "      const buttonEl =\n",
              "        document.querySelector('#df-872eca90-022d-4a2b-a086-d3915a2c2326 button.colab-df-convert');\n",
              "      buttonEl.style.display =\n",
              "        google.colab.kernel.accessAllowed ? 'block' : 'none';\n",
              "\n",
              "      async function convertToInteractive(key) {\n",
              "        const element = document.querySelector('#df-872eca90-022d-4a2b-a086-d3915a2c2326');\n",
              "        const dataTable =\n",
              "          await google.colab.kernel.invokeFunction('convertToInteractive',\n",
              "                                                    [key], {});\n",
              "        if (!dataTable) return;\n",
              "\n",
              "        const docLinkHtml = 'Like what you see? Visit the ' +\n",
              "          '<a target=\"_blank\" href=https://colab.research.google.com/notebooks/data_table.ipynb>data table notebook</a>'\n",
              "          + ' to learn more about interactive tables.';\n",
              "        element.innerHTML = '';\n",
              "        dataTable['output_type'] = 'display_data';\n",
              "        await google.colab.output.renderOutput(dataTable, element);\n",
              "        const docLink = document.createElement('div');\n",
              "        docLink.innerHTML = docLinkHtml;\n",
              "        element.appendChild(docLink);\n",
              "      }\n",
              "    </script>\n",
              "  </div>\n",
              "\n",
              "\n",
              "<div id=\"df-60bc1db0-bc58-44ae-b4af-a05afa5315ed\">\n",
              "  <button class=\"colab-df-quickchart\" onclick=\"quickchart('df-60bc1db0-bc58-44ae-b4af-a05afa5315ed')\"\n",
              "            title=\"Suggest charts\"\n",
              "            style=\"display:none;\">\n",
              "\n",
              "<svg xmlns=\"http://www.w3.org/2000/svg\" height=\"24px\"viewBox=\"0 0 24 24\"\n",
              "     width=\"24px\">\n",
              "    <g>\n",
              "        <path d=\"M19 3H5c-1.1 0-2 .9-2 2v14c0 1.1.9 2 2 2h14c1.1 0 2-.9 2-2V5c0-1.1-.9-2-2-2zM9 17H7v-7h2v7zm4 0h-2V7h2v10zm4 0h-2v-4h2v4z\"/>\n",
              "    </g>\n",
              "</svg>\n",
              "  </button>\n",
              "\n",
              "<style>\n",
              "  .colab-df-quickchart {\n",
              "      --bg-color: #E8F0FE;\n",
              "      --fill-color: #1967D2;\n",
              "      --hover-bg-color: #E2EBFA;\n",
              "      --hover-fill-color: #174EA6;\n",
              "      --disabled-fill-color: #AAA;\n",
              "      --disabled-bg-color: #DDD;\n",
              "  }\n",
              "\n",
              "  [theme=dark] .colab-df-quickchart {\n",
              "      --bg-color: #3B4455;\n",
              "      --fill-color: #D2E3FC;\n",
              "      --hover-bg-color: #434B5C;\n",
              "      --hover-fill-color: #FFFFFF;\n",
              "      --disabled-bg-color: #3B4455;\n",
              "      --disabled-fill-color: #666;\n",
              "  }\n",
              "\n",
              "  .colab-df-quickchart {\n",
              "    background-color: var(--bg-color);\n",
              "    border: none;\n",
              "    border-radius: 50%;\n",
              "    cursor: pointer;\n",
              "    display: none;\n",
              "    fill: var(--fill-color);\n",
              "    height: 32px;\n",
              "    padding: 0;\n",
              "    width: 32px;\n",
              "  }\n",
              "\n",
              "  .colab-df-quickchart:hover {\n",
              "    background-color: var(--hover-bg-color);\n",
              "    box-shadow: 0 1px 2px rgba(60, 64, 67, 0.3), 0 1px 3px 1px rgba(60, 64, 67, 0.15);\n",
              "    fill: var(--button-hover-fill-color);\n",
              "  }\n",
              "\n",
              "  .colab-df-quickchart-complete:disabled,\n",
              "  .colab-df-quickchart-complete:disabled:hover {\n",
              "    background-color: var(--disabled-bg-color);\n",
              "    fill: var(--disabled-fill-color);\n",
              "    box-shadow: none;\n",
              "  }\n",
              "\n",
              "  .colab-df-spinner {\n",
              "    border: 2px solid var(--fill-color);\n",
              "    border-color: transparent;\n",
              "    border-bottom-color: var(--fill-color);\n",
              "    animation:\n",
              "      spin 1s steps(1) infinite;\n",
              "  }\n",
              "\n",
              "  @keyframes spin {\n",
              "    0% {\n",
              "      border-color: transparent;\n",
              "      border-bottom-color: var(--fill-color);\n",
              "      border-left-color: var(--fill-color);\n",
              "    }\n",
              "    20% {\n",
              "      border-color: transparent;\n",
              "      border-left-color: var(--fill-color);\n",
              "      border-top-color: var(--fill-color);\n",
              "    }\n",
              "    30% {\n",
              "      border-color: transparent;\n",
              "      border-left-color: var(--fill-color);\n",
              "      border-top-color: var(--fill-color);\n",
              "      border-right-color: var(--fill-color);\n",
              "    }\n",
              "    40% {\n",
              "      border-color: transparent;\n",
              "      border-right-color: var(--fill-color);\n",
              "      border-top-color: var(--fill-color);\n",
              "    }\n",
              "    60% {\n",
              "      border-color: transparent;\n",
              "      border-right-color: var(--fill-color);\n",
              "    }\n",
              "    80% {\n",
              "      border-color: transparent;\n",
              "      border-right-color: var(--fill-color);\n",
              "      border-bottom-color: var(--fill-color);\n",
              "    }\n",
              "    90% {\n",
              "      border-color: transparent;\n",
              "      border-bottom-color: var(--fill-color);\n",
              "    }\n",
              "  }\n",
              "</style>\n",
              "\n",
              "  <script>\n",
              "    async function quickchart(key) {\n",
              "      const quickchartButtonEl =\n",
              "        document.querySelector('#' + key + ' button');\n",
              "      quickchartButtonEl.disabled = true;  // To prevent multiple clicks.\n",
              "      quickchartButtonEl.classList.add('colab-df-spinner');\n",
              "      try {\n",
              "        const charts = await google.colab.kernel.invokeFunction(\n",
              "            'suggestCharts', [key], {});\n",
              "      } catch (error) {\n",
              "        console.error('Error during call to suggestCharts:', error);\n",
              "      }\n",
              "      quickchartButtonEl.classList.remove('colab-df-spinner');\n",
              "      quickchartButtonEl.classList.add('colab-df-quickchart-complete');\n",
              "    }\n",
              "    (() => {\n",
              "      let quickchartButtonEl =\n",
              "        document.querySelector('#df-60bc1db0-bc58-44ae-b4af-a05afa5315ed button');\n",
              "      quickchartButtonEl.style.display =\n",
              "        google.colab.kernel.accessAllowed ? 'block' : 'none';\n",
              "    })();\n",
              "  </script>\n",
              "</div>\n",
              "\n",
              "  <div id=\"id_9f54e026-e81c-4964-abfd-7176802e866e\">\n",
              "    <style>\n",
              "      .colab-df-generate {\n",
              "        background-color: #E8F0FE;\n",
              "        border: none;\n",
              "        border-radius: 50%;\n",
              "        cursor: pointer;\n",
              "        display: none;\n",
              "        fill: #1967D2;\n",
              "        height: 32px;\n",
              "        padding: 0 0 0 0;\n",
              "        width: 32px;\n",
              "      }\n",
              "\n",
              "      .colab-df-generate:hover {\n",
              "        background-color: #E2EBFA;\n",
              "        box-shadow: 0px 1px 2px rgba(60, 64, 67, 0.3), 0px 1px 3px 1px rgba(60, 64, 67, 0.15);\n",
              "        fill: #174EA6;\n",
              "      }\n",
              "\n",
              "      [theme=dark] .colab-df-generate {\n",
              "        background-color: #3B4455;\n",
              "        fill: #D2E3FC;\n",
              "      }\n",
              "\n",
              "      [theme=dark] .colab-df-generate:hover {\n",
              "        background-color: #434B5C;\n",
              "        box-shadow: 0px 1px 3px 1px rgba(0, 0, 0, 0.15);\n",
              "        filter: drop-shadow(0px 1px 2px rgba(0, 0, 0, 0.3));\n",
              "        fill: #FFFFFF;\n",
              "      }\n",
              "    </style>\n",
              "    <button class=\"colab-df-generate\" onclick=\"generateWithVariable('group_pd_df')\"\n",
              "            title=\"Generate code using this dataframe.\"\n",
              "            style=\"display:none;\">\n",
              "\n",
              "  <svg xmlns=\"http://www.w3.org/2000/svg\" height=\"24px\"viewBox=\"0 0 24 24\"\n",
              "       width=\"24px\">\n",
              "    <path d=\"M7,19H8.4L18.45,9,17,7.55,7,17.6ZM5,21V16.75L18.45,3.32a2,2,0,0,1,2.83,0l1.4,1.43a1.91,1.91,0,0,1,.58,1.4,1.91,1.91,0,0,1-.58,1.4L9.25,21ZM18.45,9,17,7.55Zm-12,3A5.31,5.31,0,0,0,4.9,8.1,5.31,5.31,0,0,0,1,6.5,5.31,5.31,0,0,0,4.9,4.9,5.31,5.31,0,0,0,6.5,1,5.31,5.31,0,0,0,8.1,4.9,5.31,5.31,0,0,0,12,6.5,5.46,5.46,0,0,0,6.5,12Z\"/>\n",
              "  </svg>\n",
              "    </button>\n",
              "    <script>\n",
              "      (() => {\n",
              "      const buttonEl =\n",
              "        document.querySelector('#id_9f54e026-e81c-4964-abfd-7176802e866e button.colab-df-generate');\n",
              "      buttonEl.style.display =\n",
              "        google.colab.kernel.accessAllowed ? 'block' : 'none';\n",
              "\n",
              "      buttonEl.onclick = () => {\n",
              "        google.colab.notebook.generateWithVariable('group_pd_df');\n",
              "      }\n",
              "      })();\n",
              "    </script>\n",
              "  </div>\n",
              "\n",
              "    </div>\n",
              "  </div>\n"
            ],
            "application/vnd.google.colaboratory.intrinsic+json": {
              "type": "dataframe",
              "variable_name": "group_pd_df",
              "summary": "{\n  \"name\": \"group_pd_df\",\n  \"rows\": 5,\n  \"fields\": [\n    {\n      \"column\": \"Product_Category\",\n      \"properties\": {\n        \"dtype\": \"string\",\n        \"num_unique_values\": 5,\n        \"samples\": [\n          \"Electronics\",\n          \"Toys\",\n          \"Games\"\n        ],\n        \"semantic_type\": \"\",\n        \"description\": \"\"\n      }\n    },\n    {\n      \"column\": \"Total Transactions\",\n      \"properties\": {\n        \"dtype\": \"number\",\n        \"std\": 54331,\n        \"min\": 99025,\n        \"max\": 221227,\n        \"num_unique_values\": 5,\n        \"samples\": [\n          99025,\n          221227,\n          157006\n        ],\n        \"semantic_type\": \"\",\n        \"description\": \"\"\n      }\n    }\n  ]\n}"
            }
          },
          "metadata": {},
          "execution_count": 120
        }
      ]
    },
    {
      "cell_type": "code",
      "source": [
        "group_pl_df=pl_df_selected.group_by('Product_Category').agg(pl.col('Sale_ID').n_unique().alias('Total Transactions'))\n",
        "group_pl_df"
      ],
      "metadata": {
        "colab": {
          "base_uri": "https://localhost:8080/",
          "height": 255
        },
        "id": "HmCk0Sc5MTAG",
        "outputId": "37cb20da-81ae-429e-fc7d-c0f3b3a8db02"
      },
      "execution_count": null,
      "outputs": [
        {
          "output_type": "execute_result",
          "data": {
            "text/plain": [
              "shape: (5, 2)\n",
              "┌───────────────────┬────────────────────┐\n",
              "│ Product_Category  ┆ Total Transactions │\n",
              "│ ---               ┆ ---                │\n",
              "│ str               ┆ u32                │\n",
              "╞═══════════════════╪════════════════════╡\n",
              "│ Games             ┆ 157006             │\n",
              "│ Art & Crafts      ┆ 220673             │\n",
              "│ Sports & Outdoors ┆ 131331             │\n",
              "│ Electronics       ┆ 99025              │\n",
              "│ Toys              ┆ 221227             │\n",
              "└───────────────────┴────────────────────┘"
            ],
            "text/html": [
              "<div><style>\n",
              ".dataframe > thead > tr,\n",
              ".dataframe > tbody > tr {\n",
              "  text-align: right;\n",
              "  white-space: pre-wrap;\n",
              "}\n",
              "</style>\n",
              "<small>shape: (5, 2)</small><table border=\"1\" class=\"dataframe\"><thead><tr><th>Product_Category</th><th>Total Transactions</th></tr><tr><td>str</td><td>u32</td></tr></thead><tbody><tr><td>&quot;Games&quot;</td><td>157006</td></tr><tr><td>&quot;Art &amp; Crafts&quot;</td><td>220673</td></tr><tr><td>&quot;Sports &amp; Outdo…</td><td>131331</td></tr><tr><td>&quot;Electronics&quot;</td><td>99025</td></tr><tr><td>&quot;Toys&quot;</td><td>221227</td></tr></tbody></table></div>"
            ]
          },
          "metadata": {},
          "execution_count": 118
        }
      ]
    },
    {
      "cell_type": "code",
      "source": [
        "%%timeit -r10 -n10\n",
        "#pandas\n",
        "group_pd_df=pd_df_selected.groupby('Product_Category')['Sale_ID'].nunique().reset_index(name='Total Transactions')\n",
        "group_pd_df"
      ],
      "metadata": {
        "colab": {
          "base_uri": "https://localhost:8080/"
        },
        "id": "IJsepH29NrkX",
        "outputId": "d48db24d-dc16-4b51-9d87-c03b3bed91a9"
      },
      "execution_count": null,
      "outputs": [
        {
          "output_type": "stream",
          "name": "stdout",
          "text": [
            "170 ms ± 33.3 ms per loop (mean ± std. dev. of 10 runs, 10 loops each)\n"
          ]
        }
      ]
    },
    {
      "cell_type": "code",
      "source": [
        "%%timeit -r10 -n10\n",
        "#polars\n",
        "group_pl_df=pl_df_selected.group_by('Product_Category').agg(pl.col('Sale_ID').n_unique().alias('Total Transactions'))\n",
        "group_pl_df"
      ],
      "metadata": {
        "colab": {
          "base_uri": "https://localhost:8080/"
        },
        "id": "22_WNrJ0NxGf",
        "outputId": "2d78664c-e2cb-48c1-aaae-83f5461830f1"
      },
      "execution_count": null,
      "outputs": [
        {
          "output_type": "stream",
          "name": "stdout",
          "text": [
            "46.2 ms ± 1.06 ms per loop (mean ± std. dev. of 10 runs, 10 loops each)\n"
          ]
        }
      ]
    },
    {
      "cell_type": "markdown",
      "source": [
        "# 🔤 Changing Data Types"
      ],
      "metadata": {
        "id": "-PgAFepTOCYw"
      }
    },
    {
      "cell_type": "code",
      "source": [
        "#Removing Dollar Sign\n",
        "final_pd['Product_Price'] = final_pd['Product_Price'].replace('[\\$,]', ' ', regex=True)\n",
        "\n",
        "final_pl = (final_pl.with_columns(pl.col('Product_Price').str.replace_all(r'\\$', ' ').str.strip()))"
      ],
      "metadata": {
        "colab": {
          "base_uri": "https://localhost:8080/"
        },
        "collapsed": true,
        "id": "kbo5rfliOMjB",
        "outputId": "44f4946e-87ce-41a7-a1ff-045cb086560f"
      },
      "execution_count": null,
      "outputs": [
        {
          "output_type": "stream",
          "name": "stderr",
          "text": [
            "<ipython-input-194-18c0fb53d21e>:4: DeprecationWarning: `strip` is deprecated. It has been renamed to `strip_chars`.\n",
            "  final_pl = (final_pl.with_columns(pl.col('Product_Price').str.replace_all(r'\\$', ' ').str.strip()))\n"
          ]
        }
      ]
    },
    {
      "cell_type": "code",
      "source": [
        "#Changing the data type from object to float- pandas\n",
        "final_pd['Product_Price'] = final_pd['Product_Price'].astype(float)"
      ],
      "metadata": {
        "id": "8vDXoRbUVBl5"
      },
      "execution_count": null,
      "outputs": []
    },
    {
      "cell_type": "code",
      "source": [
        "#Changing the data type from object to float- polars\n",
        "final_pl = final_pl.with_columns(pl.col('Product_Price').cast(pl.Float64))"
      ],
      "metadata": {
        "id": "LU-C9HeoVjEJ"
      },
      "execution_count": null,
      "outputs": []
    },
    {
      "cell_type": "code",
      "source": [
        "%%timeit -r10 -n10\n",
        "#pandas\n",
        "final_pd['Product_Price'].astype(float)"
      ],
      "metadata": {
        "colab": {
          "base_uri": "https://localhost:8080/"
        },
        "collapsed": true,
        "id": "2bvBJchITzDW",
        "outputId": "02e700db-e2d2-4373-96e2-652aaa3dddbf"
      },
      "execution_count": null,
      "outputs": [
        {
          "output_type": "stream",
          "name": "stdout",
          "text": [
            "1.48 ms ± 124 µs per loop (mean ± std. dev. of 10 runs, 10 loops each)\n"
          ]
        }
      ]
    },
    {
      "cell_type": "code",
      "source": [
        "%%timeit -r10 -n10\n",
        "#polars\n",
        "final_pl.with_columns(pl.col('Product_Price').cast(pl.Float64))"
      ],
      "metadata": {
        "colab": {
          "base_uri": "https://localhost:8080/"
        },
        "id": "nGJcjiEZWxdS",
        "outputId": "77eac63f-bcc6-4fe9-8fe8-82aa05a7d449"
      },
      "execution_count": null,
      "outputs": [
        {
          "output_type": "stream",
          "name": "stdout",
          "text": [
            "46.1 µs ± 12.7 µs per loop (mean ± std. dev. of 10 runs, 10 loops each)\n"
          ]
        }
      ]
    },
    {
      "cell_type": "markdown",
      "source": [
        "# ⬇️ Sorting Data\n",
        "Sorting in Descending Order by Prices"
      ],
      "metadata": {
        "id": "h7oHzhIGXSS0"
      }
    },
    {
      "cell_type": "code",
      "source": [
        "#pandas\n",
        "sorted_pd_df = final_pd.sort_values(by='Product_Price', ascending=False)\n",
        "\n",
        "#polars\n",
        "sorted_pl_df = final_pl.sort(\"Product_Price\", descending=True)"
      ],
      "metadata": {
        "id": "Fe5C4QbUXPwE"
      },
      "execution_count": null,
      "outputs": []
    },
    {
      "cell_type": "code",
      "source": [
        "%%timeit -r10 -n10\n",
        "#pandas\n",
        "final_pd.sort_values(by='Product_Price', ascending=True)"
      ],
      "metadata": {
        "colab": {
          "base_uri": "https://localhost:8080/"
        },
        "id": "bZbRsWfZYc0X",
        "outputId": "f6738b26-e3ac-4e75-a909-0b12e01a116e"
      },
      "execution_count": null,
      "outputs": [
        {
          "output_type": "stream",
          "name": "stdout",
          "text": [
            "317 ms ± 53.9 ms per loop (mean ± std. dev. of 10 runs, 10 loops each)\n"
          ]
        }
      ]
    },
    {
      "cell_type": "code",
      "source": [
        "%%timeit -r10 -n10\n",
        "#polars\n",
        "final_pl.sort(\"Product_Price\", descending=False)"
      ],
      "metadata": {
        "colab": {
          "base_uri": "https://localhost:8080/"
        },
        "id": "u4YVpMx-YUcb",
        "outputId": "6fe0a98d-6583-42b0-dbca-3fd1e1596803"
      },
      "execution_count": null,
      "outputs": [
        {
          "output_type": "stream",
          "name": "stdout",
          "text": [
            "388 ms ± 57.1 ms per loop (mean ± std. dev. of 10 runs, 10 loops each)\n"
          ]
        }
      ]
    },
    {
      "cell_type": "markdown",
      "source": [
        "# 🐻‍❄️ Eager vs Lazy API"
      ],
      "metadata": {
        "id": "pKCqLos5gdym"
      }
    },
    {
      "cell_type": "markdown",
      "source": [
        "## Eager API with read_csv"
      ],
      "metadata": {
        "id": "OrLboXBxmIT6"
      }
    },
    {
      "cell_type": "code",
      "source": [
        "%%timeit -r10 -n10\n",
        "# Read the CSV file into a pandas DataFrame\n",
        "df = pd.read_csv(\"output_file_pl.csv\")\n",
        "\n",
        "# Filter the DataFrame\n",
        "filtered_df = df[df['Store_City'] == \"Cuidad de Mexico\"]\n",
        "\n",
        "# Group by 'Product_Category' and count 'Sale_ID's\n",
        "grouped_df = (filtered_df\n",
        "               .groupby('Product_Category')\n",
        "               .agg(Total_Transactions=('Sale_ID', 'count'))\n",
        "               .reset_index())\n",
        "\n",
        "# Sort by the count of transactions in descending order\n",
        "sorted_df = grouped_df.sort_values(by='Total_Transactions', ascending=False)"
      ],
      "metadata": {
        "colab": {
          "base_uri": "https://localhost:8080/"
        },
        "id": "7hKl8nk3vQkA",
        "outputId": "fa6a1506-a9ac-449b-b826-a57195baf158"
      },
      "execution_count": null,
      "outputs": [
        {
          "output_type": "stream",
          "name": "stdout",
          "text": [
            "1.99 s ± 52.5 ms per loop (mean ± std. dev. of 10 runs, 10 loops each)\n"
          ]
        }
      ]
    },
    {
      "cell_type": "code",
      "source": [
        "# Using read_csv (eager API)\n",
        "eager_pl_df = (\n",
        "    pl.read_csv(\"output_file_pl.csv\")\n",
        "    .filter(pl.col('Store_City') == \"Cuidad de Mexico\")\n",
        "    .group_by('Product_Category')\n",
        "    .agg(pl.col('Sale_ID').count().alias(\"Total Transactions\"))\n",
        "    .sort(\"Total Transactions\", descending=True)\n",
        ")"
      ],
      "metadata": {
        "collapsed": true,
        "id": "2tgIN23CYldP"
      },
      "execution_count": null,
      "outputs": []
    },
    {
      "cell_type": "code",
      "source": [
        "%%timeit -r10 -n10\n",
        "# Using read_csv (eager API)\n",
        "eager_pl_df = (\n",
        "    pl.read_csv(\"output_file_pl.csv\")\n",
        "    .filter(pl.col('Store_City') == \"Cuidad de Mexico\")\n",
        "    .group_by('Product_Category')\n",
        "    .agg(pl.col('Sale_ID').count().alias(\"Total Transactions\"))\n",
        "    .sort(\"Total Transactions\", descending=True)\n",
        ")"
      ],
      "metadata": {
        "colab": {
          "base_uri": "https://localhost:8080/"
        },
        "id": "LlrW3orulul0",
        "outputId": "330e7f25-50e8-43c5-8bff-ceb1b7196988"
      },
      "execution_count": null,
      "outputs": [
        {
          "output_type": "stream",
          "name": "stdout",
          "text": [
            "830 ms ± 108 ms per loop (mean ± std. dev. of 10 runs, 10 loops each)\n"
          ]
        }
      ]
    },
    {
      "cell_type": "code",
      "source": [
        "eager_pl_df"
      ],
      "metadata": {
        "colab": {
          "base_uri": "https://localhost:8080/",
          "height": 255
        },
        "id": "HXzaJlf8h3Kr",
        "outputId": "99a47e7d-d321-4bad-919c-78cbca894e79"
      },
      "execution_count": null,
      "outputs": [
        {
          "output_type": "execute_result",
          "data": {
            "text/plain": [
              "shape: (5, 2)\n",
              "┌───────────────────┬────────────────────┐\n",
              "│ Product_Category  ┆ Total Transactions │\n",
              "│ ---               ┆ ---                │\n",
              "│ str               ┆ u32                │\n",
              "╞═══════════════════╪════════════════════╡\n",
              "│ Toys              ┆ 24556              │\n",
              "│ Art & Crafts      ┆ 22560              │\n",
              "│ Games             ┆ 18116              │\n",
              "│ Sports & Outdoors ┆ 15458              │\n",
              "│ Electronics       ┆ 10035              │\n",
              "└───────────────────┴────────────────────┘"
            ],
            "text/html": [
              "<div><style>\n",
              ".dataframe > thead > tr,\n",
              ".dataframe > tbody > tr {\n",
              "  text-align: right;\n",
              "  white-space: pre-wrap;\n",
              "}\n",
              "</style>\n",
              "<small>shape: (5, 2)</small><table border=\"1\" class=\"dataframe\"><thead><tr><th>Product_Category</th><th>Total Transactions</th></tr><tr><td>str</td><td>u32</td></tr></thead><tbody><tr><td>&quot;Toys&quot;</td><td>24556</td></tr><tr><td>&quot;Art &amp; Crafts&quot;</td><td>22560</td></tr><tr><td>&quot;Games&quot;</td><td>18116</td></tr><tr><td>&quot;Sports &amp; Outdo…</td><td>15458</td></tr><tr><td>&quot;Electronics&quot;</td><td>10035</td></tr></tbody></table></div>"
            ]
          },
          "metadata": {},
          "execution_count": 225
        }
      ]
    },
    {
      "cell_type": "markdown",
      "source": [
        "## Lazy API with scan_csv"
      ],
      "metadata": {
        "id": "gQhmziYJmAY3"
      }
    },
    {
      "cell_type": "code",
      "source": [
        "# Using scan_csv (lazy API)\n",
        "lazy_pl_df = (\n",
        "    pl.scan_csv(\"output_file_pl.csv\")\n",
        "    .filter(pl.col('Store_City') == \"Cuidad de Mexico\")\n",
        "    .group_by('Product_Category')\n",
        "    .agg(pl.col('Sale_ID').count().alias(\"Total Transactions\"))\n",
        "    .sort(\"Total Transactions\", descending=True)\n",
        "    .collect()\n",
        ")"
      ],
      "metadata": {
        "id": "Tf-l6KEQmDqg"
      },
      "execution_count": null,
      "outputs": []
    },
    {
      "cell_type": "code",
      "source": [
        "lazy_pl_df"
      ],
      "metadata": {
        "colab": {
          "base_uri": "https://localhost:8080/",
          "height": 255
        },
        "id": "p7aVjrV1mouZ",
        "outputId": "5df6ecb0-9c81-4c0b-bb0d-5f4176d54467"
      },
      "execution_count": null,
      "outputs": [
        {
          "output_type": "execute_result",
          "data": {
            "text/plain": [
              "shape: (5, 2)\n",
              "┌───────────────────┬────────────────────┐\n",
              "│ Product_Category  ┆ Total Transactions │\n",
              "│ ---               ┆ ---                │\n",
              "│ str               ┆ u32                │\n",
              "╞═══════════════════╪════════════════════╡\n",
              "│ Toys              ┆ 24556              │\n",
              "│ Art & Crafts      ┆ 22560              │\n",
              "│ Games             ┆ 18116              │\n",
              "│ Sports & Outdoors ┆ 15458              │\n",
              "│ Electronics       ┆ 10035              │\n",
              "└───────────────────┴────────────────────┘"
            ],
            "text/html": [
              "<div><style>\n",
              ".dataframe > thead > tr,\n",
              ".dataframe > tbody > tr {\n",
              "  text-align: right;\n",
              "  white-space: pre-wrap;\n",
              "}\n",
              "</style>\n",
              "<small>shape: (5, 2)</small><table border=\"1\" class=\"dataframe\"><thead><tr><th>Product_Category</th><th>Total Transactions</th></tr><tr><td>str</td><td>u32</td></tr></thead><tbody><tr><td>&quot;Toys&quot;</td><td>24556</td></tr><tr><td>&quot;Art &amp; Crafts&quot;</td><td>22560</td></tr><tr><td>&quot;Games&quot;</td><td>18116</td></tr><tr><td>&quot;Sports &amp; Outdo…</td><td>15458</td></tr><tr><td>&quot;Electronics&quot;</td><td>10035</td></tr></tbody></table></div>"
            ]
          },
          "metadata": {},
          "execution_count": 229
        }
      ]
    },
    {
      "cell_type": "code",
      "source": [
        "%%timeit -r10 -n10\n",
        "# Using scan_csv (lazy API)\n",
        "lazy_pl_df = (\n",
        "    pl.scan_csv(\"output_file_pl.csv\")\n",
        "    .filter(pl.col('Store_City') == \"Cuidad de Mexico\")\n",
        "    .group_by('Product_Category')\n",
        "    .agg(pl.col('Sale_ID').count().alias(\"Total Transactions\"))\n",
        "    .sort(\"Total Transactions\", descending=True)\n",
        "    .collect()\n",
        ")"
      ],
      "metadata": {
        "colab": {
          "base_uri": "https://localhost:8080/"
        },
        "id": "27D2_HLFmsZj",
        "outputId": "7425cdc7-df89-4cc3-c5ef-c8efe7fdd1f1"
      },
      "execution_count": null,
      "outputs": [
        {
          "output_type": "stream",
          "name": "stdout",
          "text": [
            "236 ms ± 62.3 ms per loop (mean ± std. dev. of 10 runs, 10 loops each)\n"
          ]
        }
      ]
    },
    {
      "cell_type": "code",
      "source": [
        "plan = (\n",
        "    pl.scan_csv(\"output_file_pl.csv\")\n",
        "    .filter(pl.col('Store_City') == \"Cuidad de Mexico\")\n",
        "    .group_by('Product_Category')\n",
        "    .agg(pl.col('Sale_ID').count().alias(\"Total Transactions\"))\n",
        "    .sort(\"Total Transactions\", descending=True)\n",
        ")\n",
        "\n",
        "plan.show_graph(optimized=False)"
      ],
      "metadata": {
        "colab": {
          "base_uri": "https://localhost:8080/",
          "height": 413
        },
        "id": "849OxFVToZ5G",
        "outputId": "07f544fc-838f-463a-cf5c-4b446031b652"
      },
      "execution_count": null,
      "outputs": [
        {
          "output_type": "display_data",
          "data": {
            "text/plain": [
              "<IPython.core.display.SVG object>"
            ],
            "image/svg+xml": "<svg xmlns=\"http://www.w3.org/2000/svg\" xmlns:xlink=\"http://www.w3.org/1999/xlink\" width=\"340pt\" height=\"294pt\" viewBox=\"0.00 0.00 340.00 294.00\">\n<g id=\"graph0\" class=\"graph\" transform=\"scale(1 1) rotate(0) translate(4 290)\">\n<title>polars_query</title>\n<polygon fill=\"white\" stroke=\"transparent\" points=\"-4,4 -4,-290 336,-290 336,4 -4,4\"/>\n<!-- SORT BY [col(&quot;Total Transactions&quot;)] [(0, 0)] -->\n<g id=\"node1\" class=\"node\">\n<title>SORT BY [col(&quot;Total Transactions&quot;)] [(0, 0)]</title>\n<polygon fill=\"none\" stroke=\"black\" points=\"277.5,-286 54.5,-286 54.5,-250 277.5,-250 277.5,-286\"/>\n<text text-anchor=\"middle\" x=\"166\" y=\"-264.3\" font-family=\"Times,serif\" font-size=\"14.00\">SORT BY [col(&quot;Total Transactions&quot;)]</text>\n</g>\n<!-- AGG [col(&quot;Sale_ID&quot;).count().alias(&quot;Total Transactions&quot;)]\nBY\n[col(&quot;Product_Category&quot;)] [(0, 1)] [(0, 1)] -->\n<g id=\"node2\" class=\"node\">\n<title>AGG [col(&quot;Sale_ID&quot;).count().alias(&quot;Total Transactions&quot;)]\nBY\n[col(&quot;Product_Category&quot;)] [(0, 1)] [(0, 1)]</title>\n<polygon fill=\"none\" stroke=\"black\" points=\"332,-214 0,-214 0,-161 332,-161 332,-214\"/>\n<text text-anchor=\"middle\" x=\"166\" y=\"-198.8\" font-family=\"Times,serif\" font-size=\"14.00\">AGG [col(&quot;Sale_ID&quot;).count().alias(&quot;Total Transactions&quot;)]</text>\n<text text-anchor=\"middle\" x=\"166\" y=\"-183.8\" font-family=\"Times,serif\" font-size=\"14.00\">BY</text>\n<text text-anchor=\"middle\" x=\"166\" y=\"-168.8\" font-family=\"Times,serif\" font-size=\"14.00\">[col(&quot;Product_Category&quot;)] [(0, 1)]</text>\n</g>\n<!-- SORT BY [col(&quot;Total Transactions&quot;)] [(0, 0)]&#45;&#45;AGG [col(&quot;Sale_ID&quot;).count().alias(&quot;Total Transactions&quot;)]\nBY\n[col(&quot;Product_Category&quot;)] [(0, 1)] [(0, 1)] -->\n<g id=\"edge1\" class=\"edge\">\n<title>SORT BY [col(&quot;Total Transactions&quot;)] [(0, 0)]--AGG [col(&quot;Sale_ID&quot;).count().alias(&quot;Total Transactions&quot;)]\nBY\n[col(&quot;Product_Category&quot;)] [(0, 1)] [(0, 1)]</title>\n<path fill=\"none\" stroke=\"black\" d=\"M166,-249.97C166,-239.51 166,-225.9 166,-214.16\"/>\n</g>\n<!-- FILTER BY (col(&quot;Store_City&quot;)) == (U... [(0, 2)] -->\n<g id=\"node3\" class=\"node\">\n<title>FILTER BY (col(&quot;Store_City&quot;)) == (U... [(0, 2)]</title>\n<polygon fill=\"none\" stroke=\"black\" points=\"287,-125 45,-125 45,-89 287,-89 287,-125\"/>\n<text text-anchor=\"middle\" x=\"166\" y=\"-103.3\" font-family=\"Times,serif\" font-size=\"14.00\">FILTER BY (col(&quot;Store_City&quot;)) == (U...</text>\n</g>\n<!-- AGG [col(&quot;Sale_ID&quot;).count().alias(&quot;Total Transactions&quot;)]\nBY\n[col(&quot;Product_Category&quot;)] [(0, 1)] [(0, 1)]&#45;&#45;FILTER BY (col(&quot;Store_City&quot;)) == (U... [(0, 2)] -->\n<g id=\"edge2\" class=\"edge\">\n<title>AGG [col(&quot;Sale_ID&quot;).count().alias(&quot;Total Transactions&quot;)]\nBY\n[col(&quot;Product_Category&quot;)] [(0, 1)] [(0, 1)]--FILTER BY (col(&quot;Store_City&quot;)) == (U... [(0, 2)]</title>\n<path fill=\"none\" stroke=\"black\" d=\"M166,-160.8C166,-149.17 166,-135.74 166,-125.33\"/>\n</g>\n<!-- Csv SCAN output_file_pl.csv;\nπ */14;\nσ &#45; [(0, 3)] -->\n<g id=\"node4\" class=\"node\">\n<title>Csv SCAN output_file_pl.csv;\nπ */14;\nσ - [(0, 3)]</title>\n<polygon fill=\"none\" stroke=\"black\" points=\"257.5,-53 74.5,-53 74.5,0 257.5,0 257.5,-53\"/>\n<text text-anchor=\"middle\" x=\"166\" y=\"-37.8\" font-family=\"Times,serif\" font-size=\"14.00\">Csv SCAN output_file_pl.csv;</text>\n<text text-anchor=\"middle\" x=\"166\" y=\"-22.8\" font-family=\"Times,serif\" font-size=\"14.00\">π */14;</text>\n<text text-anchor=\"middle\" x=\"166\" y=\"-7.8\" font-family=\"Times,serif\" font-size=\"14.00\">σ -</text>\n</g>\n<!-- FILTER BY (col(&quot;Store_City&quot;)) == (U... [(0, 2)]&#45;&#45;Csv SCAN output_file_pl.csv;\nπ */14;\nσ &#45; [(0, 3)] -->\n<g id=\"edge3\" class=\"edge\">\n<title>FILTER BY (col(&quot;Store_City&quot;)) == (U... [(0, 2)]--Csv SCAN output_file_pl.csv;\nπ */14;\nσ - [(0, 3)]</title>\n<path fill=\"none\" stroke=\"black\" d=\"M166,-88.97C166,-78.51 166,-64.9 166,-53.16\"/>\n</g>\n</g>\n</svg>"
          },
          "metadata": {}
        }
      ]
    },
    {
      "cell_type": "markdown",
      "source": [
        "# Comparison"
      ],
      "metadata": {
        "id": "J-QqypZOsUbv"
      }
    },
    {
      "cell_type": "code",
      "source": [],
      "metadata": {
        "id": "Cs4f0ljDsXgn"
      },
      "execution_count": null,
      "outputs": []
    }
  ]
}